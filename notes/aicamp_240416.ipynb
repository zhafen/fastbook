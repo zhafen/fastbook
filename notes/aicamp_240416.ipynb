{
 "cells": [
  {
   "cell_type": "markdown",
   "metadata": {},
   "source": [
    "# DBRX"
   ]
  },
  {
   "cell_type": "markdown",
   "metadata": {
    "vscode": {
     "languageId": "plaintext"
    }
   },
   "source": [
    "* Open-source LLM for text by Databricks\n",
    "* Trained using the Data Intelligence Platform\n",
    "* Claimed to be better than any established open model to date\n",
    "* 132b parameters\n",
    "* training data is not public\n",
    "* \"Mixture of Experts\" model, which uses heterogenous use of experts"
   ]
  },
  {
   "cell_type": "markdown",
   "metadata": {
    "vscode": {
     "languageId": "plaintext"
    }
   },
   "source": [
    "Measured on:\n",
    "* Databricks Guantlet\n",
    "* Open LLM leaderboard\n",
    "* MMLU for world knowledge\n",
    "* HumanEval\n",
    "* Long-context and RAG evals"
   ]
  },
  {
   "cell_type": "markdown",
   "metadata": {},
   "source": []
  }
 ],
 "metadata": {
  "language_info": {
   "name": "python"
  }
 },
 "nbformat": 4,
 "nbformat_minor": 2
}
