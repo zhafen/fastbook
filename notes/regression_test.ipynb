{
 "cells": [
  {
   "cell_type": "markdown",
   "metadata": {},
   "source": [
    "# Regression Evaluation\n",
    "\n",
    "Notebook for testing regression using the California Housing dataset\n"
   ]
  },
  {
   "cell_type": "markdown",
   "metadata": {},
   "source": [
    "# Setup\n"
   ]
  },
  {
   "cell_type": "code",
   "execution_count": null,
   "metadata": {},
   "outputs": [],
   "source": [
    "import numpy as np\n",
    "import pandas as pd\n",
    "import scipy\n",
    "import tqdm\n",
    "\n",
    "# This is a draft---don't overengineer!\n",
    "# NO renaming!\n",
    "# NO refactoring!\n",
    "# TODO: Remove this when the draft is done."
   ]
  },
  {
   "cell_type": "code",
   "execution_count": null,
   "metadata": {},
   "outputs": [],
   "source": [
    "from sklearn.datasets import fetch_california_housing\n",
    "from sklearn.metrics import mean_squared_error"
   ]
  },
  {
   "cell_type": "code",
   "execution_count": null,
   "metadata": {},
   "outputs": [],
   "source": [
    "import matplotlib.pyplot as plt\n",
    "import seaborn as sns"
   ]
  },
  {
   "cell_type": "markdown",
   "metadata": {},
   "source": [
    "## Config\n"
   ]
  },
  {
   "cell_type": "code",
   "execution_count": null,
   "metadata": {},
   "outputs": [],
   "source": [
    "config = {\n",
    "    \"random_state\": 15943,\n",
    "    \"test_size\": 0.2,\n",
    "    \"n_splits\": 5,\n",
    "    \"scoring\": \"neg_mean_squared_error\",\n",
    "}"
   ]
  },
  {
   "cell_type": "markdown",
   "metadata": {},
   "source": [
    "## Code"
   ]
  },
  {
   "cell_type": "code",
   "execution_count": null,
   "metadata": {},
   "outputs": [],
   "source": [
    "import torch\n",
    "from torch import nn"
   ]
  },
  {
   "cell_type": "code",
   "execution_count": null,
   "metadata": {},
   "outputs": [],
   "source": [
    "from sklearn.base import BaseEstimator"
   ]
  },
  {
   "cell_type": "code",
   "execution_count": null,
   "metadata": {},
   "outputs": [],
   "source": [
    "# Get cpu, gpu or mps device for training.\n",
    "DEVICE = (\n",
    "    \"cuda\"\n",
    "    if torch.cuda.is_available()\n",
    "    else \"mps\" if torch.backends.mps.is_available() else \"cpu\"\n",
    ")\n",
    "print(f\"Using {DEVICE} device\")"
   ]
  },
  {
   "cell_type": "code",
   "execution_count": null,
   "metadata": {},
   "outputs": [],
   "source": [
    "class TorchLinearEstimator(BaseEstimator):\n",
    "\n",
    "    def __init__(self, lr=1e-2, n_epoch=1000):\n",
    "\n",
    "        self.lr = lr\n",
    "        self.n_epoch = n_epoch\n",
    "\n",
    "    def fit(self, X, y):\n",
    "\n",
    "        X = torch.Tensor(X).to(DEVICE)\n",
    "        y = torch.Tensor(y).to(DEVICE)\n",
    "\n",
    "        # Create parameters and turn on gradient tracking\n",
    "        w = nn.init.uniform_(torch.rand(n_features), a=-y.max(), b=y.max())\n",
    "        b = nn.init.uniform_(torch.rand(1), a=-y.max(), b=y.max())\n",
    "        w = w.to(DEVICE).requires_grad_()\n",
    "        b = b.to(DEVICE).requires_grad_()\n",
    "\n",
    "        # Training loop\n",
    "        losses = []\n",
    "        ws = []\n",
    "        bs = []\n",
    "        i_best = None\n",
    "        for i in tqdm.tqdm(range(self.n_epoch)):\n",
    "\n",
    "            # Make the prediction\n",
    "            y_pred = self.linear_model(X, w, b)\n",
    "\n",
    "            # Get the loss\n",
    "            loss = self.loss(y_pred, y)\n",
    "\n",
    "            # Calculate the gradient\n",
    "            loss.backward()\n",
    "\n",
    "            # Modify the parameters\n",
    "            w.data -= w.grad.data * self.lr\n",
    "            b.data -= b.grad.data * self.lr\n",
    "\n",
    "            # Zero the gradient\n",
    "            w.grad = None\n",
    "            b.grad = None\n",
    "\n",
    "            # Store\n",
    "            losses.append(loss.cpu().detach().numpy())\n",
    "            ws.append(w.cpu().detach().numpy())\n",
    "            bs.append(b.cpu().detach().numpy())\n",
    "\n",
    "        self.w_ = w.clone()\n",
    "        self.b_ = b.clone()\n",
    "        self.losses_ = np.array(losses)\n",
    "        self.ws_ = np.array(ws)\n",
    "        self.bs_ = np.array(bs)\n",
    "\n",
    "        return self\n",
    "\n",
    "    def predict(self, X):\n",
    "\n",
    "        X = torch.Tensor(X).to(DEVICE)\n",
    "\n",
    "        # Make the prediction\n",
    "        y_pred = self.linear_model(X, self.w_, self.b_)\n",
    "\n",
    "        return y_pred.cpu().detach().numpy()\n",
    "\n",
    "    def linear_model(self, X, weights=None, bias=None):\n",
    "        \"\"\"The model itself.\"\"\"\n",
    "\n",
    "        return X @ weights + bias\n",
    "\n",
    "    def loss(self, y_pred, y_actual):\n",
    "\n",
    "        return ((y_pred.flatten() - y_actual.flatten()) ** 2.0).mean()"
   ]
  },
  {
   "cell_type": "code",
   "execution_count": null,
   "metadata": {},
   "outputs": [],
   "source": [
    "from torch import optim\n",
    "from torch.utils.data import TensorDataset, DataLoader"
   ]
  },
  {
   "cell_type": "code",
   "execution_count": null,
   "metadata": {},
   "outputs": [],
   "source": [
    "class TorchEstimator(BaseEstimator):\n",
    "\n",
    "    def __init__(\n",
    "        self,\n",
    "        net,\n",
    "        lr: float = 1e-2,\n",
    "        epochs: int = 20,\n",
    "        batch_size: int = 64,\n",
    "        device: str = DEVICE,\n",
    "        optimizer=optim.Adam,\n",
    "    ):\n",
    "\n",
    "        self.net = net.to(device)\n",
    "        self.lr = lr\n",
    "        self.epochs = epochs\n",
    "        self.batch_size = batch_size\n",
    "        self.device = device\n",
    "        self.optimizer = optimizer\n",
    "\n",
    "    def fit(\n",
    "        self,\n",
    "        X: np.ndarray,\n",
    "        y: pd.Series,\n",
    "        X_val: np.ndarray = None,\n",
    "        y_val: pd.Series = None,\n",
    "    ) -> \"TorchEstimator\":\n",
    "\n",
    "        self.net.train()\n",
    "\n",
    "        # Prep data\n",
    "        X = torch.Tensor(X).to(self.device)\n",
    "        y = torch.Tensor(y).to(self.device)\n",
    "        dataset = TensorDataset(X, y)\n",
    "        dataloader = DataLoader(dataset, batch_size=self.batch_size)\n",
    "\n",
    "        # Prep validation data\n",
    "        if X_val is not None and y_val is not None:\n",
    "            X_val = torch.Tensor(X_val).to(self.device)\n",
    "            y_val = torch.Tensor(y_val).to(self.device)\n",
    "            dataset_val = TensorDataset(X_val, y_val)\n",
    "            dataloader_val = DataLoader(dataset_val, batch_size=self.batch_size)\n",
    "            self.losses_val_ = []\n",
    "\n",
    "        # Initialize parameters\n",
    "        params = [\n",
    "            nn.init.uniform_(param.requires_grad_(), a=-y.max(), b=y.max())\n",
    "            for param in self.net.parameters()\n",
    "        ]\n",
    "\n",
    "        optimizer = self.optimizer(params, lr=self.lr)\n",
    "\n",
    "        # Training loop\n",
    "        self.losses_ = []\n",
    "        self.params_list_ = []\n",
    "        for i in tqdm.tqdm(range(self.epochs)):\n",
    "            self.net.train()\n",
    "            loss = 0.0\n",
    "            for j, (X_j, y_j) in enumerate(dataloader):\n",
    "\n",
    "                # Make the prediction\n",
    "                y_pred_j = self.net(X_j)\n",
    "\n",
    "                # Get the loss\n",
    "                loss_j = self.loss_fn(y_pred_j, y_j)\n",
    "\n",
    "                # Backpropagation\n",
    "                optimizer.zero_grad()\n",
    "                loss_j.backward()\n",
    "                optimizer.step()\n",
    "\n",
    "                loss += loss_j.cpu().detach().numpy() * len(y_j)\n",
    "            # Store for later use\n",
    "            loss /= len(y)\n",
    "            self.losses_.append(loss)\n",
    "            self.params_list_.append([param.cpu().detach().numpy() for param in params])\n",
    "\n",
    "            # Evaluation for validation data\n",
    "            if X_val is not None and y_val is not None:\n",
    "                self.net.eval()\n",
    "                with torch.no_grad():\n",
    "                    loss_val = 0.0\n",
    "                    for j, (X_val_j, y_val_j) in enumerate(dataloader_val):\n",
    "\n",
    "                        # Make the prediction\n",
    "                        pred_val_j = self.net(X_val_j)\n",
    "\n",
    "                        # Get the loss\n",
    "                        loss_val_j = self.loss_fn(pred_val_j, y_val_j)\n",
    "\n",
    "                        loss_val += loss_val_j.cpu().detach().numpy() * len(y_val_j)\n",
    "\n",
    "                    # Store for later use\n",
    "                    loss_val /= len(y_val)\n",
    "                    self.losses_val_.append(loss_val)\n",
    "\n",
    "        return self\n",
    "\n",
    "    def predict(self, X):\n",
    "\n",
    "        X = torch.Tensor(X).to(self.device)\n",
    "\n",
    "        # Make the prediction\n",
    "        self.net.eval()\n",
    "        y_pred = self.net(X)\n",
    "\n",
    "        return y_pred.cpu().detach().numpy()\n",
    "\n",
    "    def loss_fn(self, y_pred, y_actual):\n",
    "        return ((y_pred.flatten() - y_actual.flatten()) ** 2.0).mean()"
   ]
  },
  {
   "cell_type": "code",
   "execution_count": null,
   "metadata": {},
   "outputs": [],
   "source": [
    "class NetVisualizer:\n",
    "    \"\"\"Class for visualizing how a net transforms data.\"\"\"\n",
    "\n",
    "    def __init__(self, net):\n",
    "        self.net = net\n",
    "\n",
    "    def plot(self, X, x_axis=\"X\"):\n",
    "\n",
    "        children = list(self.net.named_children())\n",
    "        mosaic = [\n",
    "            [\n",
    "                child[0],\n",
    "            ]\n",
    "            for child in children\n",
    "        ]\n",
    "\n",
    "        fig = plt.figure(figsize=(len(mosaic[0]) * 5, len(mosaic) * 5))\n",
    "        ax_dict = fig.subplot_mosaic(mosaic=mosaic)\n",
    "\n",
    "        X_in = torch.Tensor(X).to(DEVICE).reshape(-1, 1)\n",
    "        for name, child in children:\n",
    "\n",
    "            if x_axis == \"X\":\n",
    "                X_plotted = X\n",
    "            elif x_axis == \"X_in\":\n",
    "                X_plotted = X_in.cpu().detach().numpy()\n",
    "            else:\n",
    "                raise KeyError(f\"Unrecognized option for x_axis, {x_axis}\")\n",
    "\n",
    "            ax = ax_dict[name]\n",
    "            X_out = child(X_in)\n",
    "            ax.plot(\n",
    "                X_plotted,\n",
    "                X_out.cpu().detach().numpy(),\n",
    "            )\n",
    "\n",
    "            X_in = X_out\n",
    "\n",
    "            if x_axis == \"X\":\n",
    "                ax.set_xlabel(\"X\")\n",
    "            elif x_axis == \"X_in\":\n",
    "                ax.set_xlabel(\"X_in\")\n",
    "            ax.set_ylabel(f\"X_out @ {name}\")\n",
    "            ax.set_title(child)\n",
    "\n",
    "        return fig"
   ]
  },
  {
   "cell_type": "markdown",
   "metadata": {},
   "source": [
    "# Data\n"
   ]
  },
  {
   "cell_type": "markdown",
   "metadata": {},
   "source": [
    "## California Housing Data\n"
   ]
  },
  {
   "cell_type": "code",
   "execution_count": null,
   "metadata": {},
   "outputs": [],
   "source": [
    "dataset = fetch_california_housing()"
   ]
  },
  {
   "cell_type": "code",
   "execution_count": null,
   "metadata": {},
   "outputs": [],
   "source": [
    "X = pd.DataFrame(dataset[\"data\"], columns=dataset[\"feature_names\"])\n",
    "X"
   ]
  },
  {
   "cell_type": "code",
   "execution_count": null,
   "metadata": {},
   "outputs": [],
   "source": [
    "y = pd.DataFrame(dataset[\"target\"], columns=dataset[\"target_names\"])\n",
    "y"
   ]
  },
  {
   "cell_type": "code",
   "execution_count": null,
   "metadata": {},
   "outputs": [],
   "source": [
    "df = pd.concat([X, y], axis=1)"
   ]
  },
  {
   "cell_type": "code",
   "execution_count": null,
   "metadata": {},
   "outputs": [],
   "source": [
    "g = sns.PairGrid(df)\n",
    "g.map_diag(sns.histplot, bins=32)\n",
    "g.map_offdiag(sns.histplot, bins=32)"
   ]
  },
  {
   "cell_type": "markdown",
   "metadata": {},
   "source": [
    "# Simple Single-Feature Regression\n"
   ]
  },
  {
   "cell_type": "markdown",
   "metadata": {},
   "source": [
    "## Set up\n"
   ]
  },
  {
   "cell_type": "code",
   "execution_count": null,
   "metadata": {},
   "outputs": [],
   "source": [
    "results = {}"
   ]
  },
  {
   "cell_type": "markdown",
   "metadata": {},
   "source": [
    "### Select data\n"
   ]
  },
  {
   "cell_type": "code",
   "execution_count": null,
   "metadata": {},
   "outputs": [],
   "source": [
    "from sklearn.datasets import make_regression"
   ]
  },
  {
   "cell_type": "code",
   "execution_count": null,
   "metadata": {},
   "outputs": [],
   "source": [
    "X_var = \"MedInc\"\n",
    "y_var = \"MedHouseVal\""
   ]
  },
  {
   "cell_type": "code",
   "execution_count": null,
   "metadata": {},
   "outputs": [],
   "source": [
    "X = df[X_var].values.reshape(-1, 1)\n",
    "y = df[y_var].values"
   ]
  },
  {
   "cell_type": "code",
   "execution_count": null,
   "metadata": {},
   "outputs": [],
   "source": [
    "# X, y = make_regression(n_samples=1000, n_features=1, noise=10)"
   ]
  },
  {
   "cell_type": "code",
   "execution_count": null,
   "metadata": {},
   "outputs": [],
   "source": [
    "n_features = X.shape[1]"
   ]
  },
  {
   "cell_type": "code",
   "execution_count": null,
   "metadata": {},
   "outputs": [],
   "source": [
    "fig = plt.figure()\n",
    "ax = plt.gca()\n",
    "\n",
    "ax.hist2d(\n",
    "    X[:, 0],\n",
    "    y,\n",
    "    bins=32,\n",
    ")\n",
    "\n",
    "ax.set_xlabel(\"X\")\n",
    "ax.set_ylabel(\"y\")"
   ]
  },
  {
   "cell_type": "markdown",
   "metadata": {},
   "source": [
    "### Split data\n"
   ]
  },
  {
   "cell_type": "code",
   "execution_count": null,
   "metadata": {},
   "outputs": [],
   "source": [
    "from sklearn.model_selection import train_test_split, cross_val_score, KFold"
   ]
  },
  {
   "cell_type": "code",
   "execution_count": null,
   "metadata": {},
   "outputs": [],
   "source": [
    "X_train, X_test, y_train, y_test = train_test_split(\n",
    "    X, y, test_size=config[\"test_size\"], random_state=config[\"random_state\"]\n",
    ")"
   ]
  },
  {
   "cell_type": "code",
   "execution_count": null,
   "metadata": {},
   "outputs": [],
   "source": [
    "cv = KFold(\n",
    "    n_splits=config[\"n_splits\"], shuffle=True, random_state=config[\"random_state\"]\n",
    ")"
   ]
  },
  {
   "cell_type": "markdown",
   "metadata": {},
   "source": [
    "## Baseline\n"
   ]
  },
  {
   "cell_type": "markdown",
   "metadata": {},
   "source": [
    "### Build\n"
   ]
  },
  {
   "cell_type": "code",
   "execution_count": null,
   "metadata": {},
   "outputs": [],
   "source": [
    "class Baseline(BaseEstimator):\n",
    "\n",
    "    def fit(self, X, y):\n",
    "        \"\"\"Baseline is we just use the fraction of classifications as a binomial probability.\"\"\"\n",
    "\n",
    "        self.mean_ = y.mean()\n",
    "\n",
    "    def predict(self, X):\n",
    "\n",
    "        return np.full(X.shape[0], self.mean_)"
   ]
  },
  {
   "cell_type": "code",
   "execution_count": null,
   "metadata": {},
   "outputs": [],
   "source": [
    "# Make the estimator\n",
    "model_name = \"mean\"\n",
    "model = Baseline()"
   ]
  },
  {
   "cell_type": "markdown",
   "metadata": {},
   "source": [
    "### Evaluate\n"
   ]
  },
  {
   "cell_type": "code",
   "execution_count": null,
   "metadata": {},
   "outputs": [],
   "source": [
    "result = {}"
   ]
  },
  {
   "cell_type": "code",
   "execution_count": null,
   "metadata": {},
   "outputs": [],
   "source": [
    "# Full prediction\n",
    "model.fit(X_train, y_train)\n",
    "y_pred = model.predict(X_test)"
   ]
  },
  {
   "cell_type": "code",
   "execution_count": null,
   "metadata": {},
   "outputs": [],
   "source": [
    "result[\"mse\"] = mean_squared_error(y_test, y_pred)\n",
    "result[\"mse\"]"
   ]
  },
  {
   "cell_type": "code",
   "execution_count": null,
   "metadata": {},
   "outputs": [],
   "source": [
    "# Crossval score\n",
    "result[\"cross_val_score\"] = cross_val_score(\n",
    "    model, X_train, y_train, cv=cv, scoring=config[\"scoring\"]\n",
    ")\n",
    "result[\"cross_val_score\"]"
   ]
  },
  {
   "cell_type": "code",
   "execution_count": null,
   "metadata": {},
   "outputs": [],
   "source": [
    "results[model_name] = result"
   ]
  },
  {
   "cell_type": "markdown",
   "metadata": {},
   "source": [
    "## Linear Regression\n"
   ]
  },
  {
   "cell_type": "markdown",
   "metadata": {},
   "source": [
    "### Build\n"
   ]
  },
  {
   "cell_type": "code",
   "execution_count": null,
   "metadata": {},
   "outputs": [],
   "source": [
    "from sklearn.linear_model import LinearRegression"
   ]
  },
  {
   "cell_type": "code",
   "execution_count": null,
   "metadata": {},
   "outputs": [],
   "source": [
    "# Make the estimator\n",
    "model_name = \"linear_regression\"\n",
    "model = LinearRegression()"
   ]
  },
  {
   "cell_type": "markdown",
   "metadata": {},
   "source": [
    "### Evaluate\n"
   ]
  },
  {
   "cell_type": "code",
   "execution_count": null,
   "metadata": {},
   "outputs": [],
   "source": [
    "result = {}"
   ]
  },
  {
   "cell_type": "code",
   "execution_count": null,
   "metadata": {},
   "outputs": [],
   "source": [
    "# Full prediction\n",
    "model.fit(X_train, y_train)\n",
    "y_pred = model.predict(X_test)"
   ]
  },
  {
   "cell_type": "code",
   "execution_count": null,
   "metadata": {},
   "outputs": [],
   "source": [
    "result[\"mse\"] = mean_squared_error(y_test, y_pred)\n",
    "result[\"mse\"]"
   ]
  },
  {
   "cell_type": "code",
   "execution_count": null,
   "metadata": {},
   "outputs": [],
   "source": [
    "# Crossval score\n",
    "result[\"cross_val_score\"] = cross_val_score(\n",
    "    model, X_train, y_train, cv=cv, scoring=config[\"scoring\"]\n",
    ")\n",
    "result[\"cross_val_score\"]"
   ]
  },
  {
   "cell_type": "code",
   "execution_count": null,
   "metadata": {},
   "outputs": [],
   "source": [
    "fig = plt.figure()\n",
    "ax = plt.gca()\n",
    "\n",
    "h, x_edges, y_edges, mesh = ax.hist2d(\n",
    "    X_test[:, 0],\n",
    "    y_test,\n",
    "    bins=32,\n",
    "    cmap=\"Greys\",\n",
    ")\n",
    "\n",
    "y_pred_plot = model.predict(x_edges.reshape(-1, 1))\n",
    "ax.plot(x_edges, y_pred_plot, color=\"r\")\n",
    "\n",
    "ax.set_xlabel(X_var)\n",
    "ax.set_ylabel(y_var)"
   ]
  },
  {
   "cell_type": "code",
   "execution_count": null,
   "metadata": {},
   "outputs": [],
   "source": [
    "result[\"w\"] = model.coef_[0]\n",
    "result[\"b\"] = model.intercept_"
   ]
  },
  {
   "cell_type": "code",
   "execution_count": null,
   "metadata": {},
   "outputs": [],
   "source": [
    "results[model_name] = result"
   ]
  },
  {
   "cell_type": "markdown",
   "metadata": {},
   "source": [
    "## Model: Single Linear Layer\n",
    "\n",
    "Same thing as traditional linear regression, but trained with gradient descent.\n"
   ]
  },
  {
   "cell_type": "code",
   "execution_count": null,
   "metadata": {},
   "outputs": [],
   "source": [
    "# Make the estimator\n",
    "model_name = \"linear_model\"\n",
    "model = TorchLinearEstimator(n_epoch=20)"
   ]
  },
  {
   "cell_type": "markdown",
   "metadata": {},
   "source": [
    "### Evaluate\n"
   ]
  },
  {
   "cell_type": "code",
   "execution_count": null,
   "metadata": {},
   "outputs": [],
   "source": [
    "result = {}"
   ]
  },
  {
   "cell_type": "code",
   "execution_count": null,
   "metadata": {},
   "outputs": [],
   "source": [
    "# Full prediction\n",
    "model.fit(X_train, y_train)\n",
    "y_pred = model.predict(X_test)"
   ]
  },
  {
   "cell_type": "code",
   "execution_count": null,
   "metadata": {},
   "outputs": [],
   "source": [
    "# Calculate the error\n",
    "result[\"mse\"] = mean_squared_error(y_test, y_pred)\n",
    "result[\"mse\"]"
   ]
  },
  {
   "cell_type": "code",
   "execution_count": null,
   "metadata": {},
   "outputs": [],
   "source": [
    "# Store the parameters\n",
    "result[\"w\"] = model.w_[0]\n",
    "result[\"b\"] = model.b_[0]"
   ]
  },
  {
   "cell_type": "code",
   "execution_count": null,
   "metadata": {},
   "outputs": [],
   "source": [
    "# Evolution of fit over epochs\n",
    "fig = plt.figure()\n",
    "ax = plt.gca()\n",
    "\n",
    "# Data\n",
    "h, x_edges, y_edges, mesh = ax.hist2d(\n",
    "    X_train[:, 0],\n",
    "    y_train,\n",
    "    bins=32,\n",
    "    cmap=\"Greys\",\n",
    ")\n",
    "\n",
    "# Change in fit parameters\n",
    "norm = plt.Normalize(0, len(model.ws_))\n",
    "cmap = sns.color_palette(\"flare\", as_cmap=True)\n",
    "for i, w in enumerate(model.ws_):\n",
    "\n",
    "    if i == 0 or i == len(model.ws_) - 1:\n",
    "        label = i\n",
    "    else:\n",
    "        label = None\n",
    "\n",
    "    ax.plot(x_edges, w * x_edges + model.bs_[i], color=cmap(norm(i)), label=label)\n",
    "\n",
    "# Linear regression best fit\n",
    "l_params = results[\"linear_regression\"]\n",
    "ax.plot(x_edges, x_edges * l_params[\"w\"] + l_params[\"b\"], color=\"b\")\n",
    "\n",
    "ax.legend()\n",
    "\n",
    "ax.set_xlabel(\"X\")\n",
    "ax.set_ylabel(\"y\")"
   ]
  },
  {
   "cell_type": "code",
   "execution_count": null,
   "metadata": {},
   "outputs": [],
   "source": [
    "# Generate the loss map\n",
    "ws = np.linspace(-y.max(), y.max(), 32)\n",
    "bs = np.linspace(-y.max(), y.max(), 32)\n",
    "loss_map = []\n",
    "w_map = []\n",
    "b_map = []\n",
    "for w in tqdm.tqdm(ws):\n",
    "    loss_row = []\n",
    "    w_row = []\n",
    "    b_row = []\n",
    "    for b in bs:\n",
    "        y_pred = w * X_train + b\n",
    "        loss = ((y_pred.flatten() - y_train) ** 2.0).mean()\n",
    "        w_row.append(w)\n",
    "        b_row.append(b)\n",
    "        loss_row.append(loss)\n",
    "    w_map.append(w_row)\n",
    "    b_map.append(b_row)\n",
    "    loss_map.append(loss_row)\n",
    "w_map = np.array(w_map)\n",
    "b_map = np.array(b_map)\n",
    "loss_map = np.array(loss_map)"
   ]
  },
  {
   "cell_type": "code",
   "execution_count": null,
   "metadata": {},
   "outputs": [],
   "source": [
    "# Plot trajectory in loss map\n",
    "fig = plt.figure()\n",
    "ax = plt.gca()\n",
    "\n",
    "p = ax.pcolormesh(w_map, b_map, loss_map, cmap=\"Greys\")\n",
    "\n",
    "ax.scatter(l_params[\"w\"], l_params[\"b\"], color=\"k\", marker='X', s=100)\n",
    "\n",
    "ax.scatter(\n",
    "    model.ws_,\n",
    "    model.bs_,\n",
    "    c=cmap(norm(np.arange(model.ws_.size))),\n",
    ")\n",
    "\n",
    "plt.colorbar(p)\n",
    "\n",
    "ax.set_xlabel(\"w\")\n",
    "ax.set_ylabel(\"b\")"
   ]
  },
  {
   "cell_type": "code",
   "execution_count": null,
   "metadata": {},
   "outputs": [],
   "source": [
    "# Plot the training progress (loss curve)\n",
    "fig = plt.figure()\n",
    "ax = plt.gca()\n",
    "\n",
    "ax.plot(\n",
    "    range(len(model.losses_)),\n",
    "    model.losses_,\n",
    ")\n",
    "\n",
    "ax.set_xlabel(\"epoch\")\n",
    "ax.set_ylabel(\"mse\")"
   ]
  },
  {
   "cell_type": "code",
   "execution_count": null,
   "metadata": {},
   "outputs": [],
   "source": [
    "# Crossval score\n",
    "result[\"cross_val_score\"] = cross_val_score(\n",
    "    model, X_train, y_train, cv=cv, scoring=config[\"scoring\"]\n",
    ")\n",
    "result[\"cross_val_score\"]"
   ]
  },
  {
   "cell_type": "code",
   "execution_count": null,
   "metadata": {},
   "outputs": [],
   "source": [
    "results[model_name] = result"
   ]
  },
  {
   "cell_type": "markdown",
   "metadata": {},
   "source": [
    "## Model: Single Linear Layer (using nn.Sequential)\n"
   ]
  },
  {
   "cell_type": "markdown",
   "metadata": {},
   "source": [
    "### Build\n"
   ]
  },
  {
   "cell_type": "code",
   "execution_count": null,
   "metadata": {},
   "outputs": [],
   "source": [
    "class CustomOptimizer:\n",
    "\n",
    "    def __init__(self, params, lr=1e-4):\n",
    "        self.params = params\n",
    "        self.lr = lr\n",
    "\n",
    "    def zero_grad(self):\n",
    "        for param in self.params:\n",
    "            param.grad = None\n",
    "\n",
    "    def step(self):\n",
    "        for param in self.params:\n",
    "            param.data -= param.grad.data * self.lr"
   ]
  },
  {
   "cell_type": "code",
   "execution_count": null,
   "metadata": {},
   "outputs": [],
   "source": [
    "# Make the estimator\n",
    "model_name = \"linear_net\"\n",
    "model = nn.Sequential(\n",
    "    nn.Linear(n_features, 1),\n",
    ")\n",
    "model = TorchEstimator(net=model, optimizer=CustomOptimizer, epochs=10)"
   ]
  },
  {
   "cell_type": "markdown",
   "metadata": {},
   "source": [
    "### Evaluate\n"
   ]
  },
  {
   "cell_type": "code",
   "execution_count": null,
   "metadata": {},
   "outputs": [],
   "source": [
    "result = {}"
   ]
  },
  {
   "cell_type": "code",
   "execution_count": null,
   "metadata": {},
   "outputs": [],
   "source": [
    "# Full prediction\n",
    "model.fit(X_train, y_train, X_val=X_test, y_val=y_test)\n",
    "y_pred = model.predict(X_test)"
   ]
  },
  {
   "cell_type": "code",
   "execution_count": null,
   "metadata": {},
   "outputs": [],
   "source": [
    "# Calcualte the error\n",
    "result[\"mse\"] = mean_squared_error(y_test, y_pred)\n",
    "result[\"mse\"]"
   ]
  },
  {
   "cell_type": "code",
   "execution_count": null,
   "metadata": {},
   "outputs": [],
   "source": [
    "# Store the parameters\n",
    "result[\"w\"] = list(model.net.parameters())[0][0][0]\n",
    "result[\"b\"] = list(model.net.parameters())[1][0]"
   ]
  },
  {
   "cell_type": "code",
   "execution_count": null,
   "metadata": {},
   "outputs": [],
   "source": [
    "# Evolution of fit over epochs\n",
    "fig = plt.figure()\n",
    "ax = plt.gca()\n",
    "\n",
    "# Data\n",
    "h, x_edges, y_edges, mesh = ax.hist2d(\n",
    "    X_train[:, 0],\n",
    "    y_train,\n",
    "    bins=32,\n",
    "    cmap=\"Greys\",\n",
    ")\n",
    "\n",
    "# Change in fit parameters\n",
    "norm = plt.Normalize(0, model.epochs)\n",
    "cmap = sns.color_palette(\"flare\", as_cmap=True)\n",
    "for i, params in enumerate(model.params_list_):\n",
    "\n",
    "    if i == 0 or i == model.epochs - 1:\n",
    "        label = i\n",
    "    else:\n",
    "        label = None\n",
    "\n",
    "    w = params[0][0][0]\n",
    "    b = params[1][0]\n",
    "    ax.plot(x_edges, w * x_edges + b, color=cmap(norm(i)), label=label)\n",
    "\n",
    "# Linear regression best fit\n",
    "l_params = results[\"linear_regression\"]\n",
    "ax.plot(x_edges, x_edges * l_params[\"w\"] + l_params[\"b\"], color=\"b\")\n",
    "\n",
    "ax.legend()\n",
    "\n",
    "ax.set_xlabel(\"X\")\n",
    "ax.set_ylabel(\"y\")"
   ]
  },
  {
   "cell_type": "code",
   "execution_count": null,
   "metadata": {},
   "outputs": [],
   "source": [
    "# Plot the training progress (loss curve)\n",
    "fig = plt.figure()\n",
    "ax = plt.gca()\n",
    "\n",
    "ax.plot(\n",
    "    range(len(model.losses_)),\n",
    "    model.losses_,\n",
    "    label = 'training',\n",
    ")\n",
    "\n",
    "ax.plot(\n",
    "    range(len(model.losses_val_)),\n",
    "    model.losses_val_,\n",
    "    label = 'validation',\n",
    ")\n",
    "\n",
    "ax.legend()\n",
    "\n",
    "ax.set_xlabel(\"epoch\")\n",
    "ax.set_ylabel(\"mse\")"
   ]
  },
  {
   "cell_type": "code",
   "execution_count": null,
   "metadata": {},
   "outputs": [],
   "source": [
    "# Crossval score\n",
    "result[\"cross_val_score\"] = cross_val_score(\n",
    "    model, X_train, y_train, cv=cv, scoring=config[\"scoring\"]\n",
    ")\n",
    "result[\"cross_val_score\"]"
   ]
  },
  {
   "cell_type": "code",
   "execution_count": null,
   "metadata": {},
   "outputs": [],
   "source": [
    "results[model_name] = result"
   ]
  },
  {
   "cell_type": "markdown",
   "metadata": {},
   "source": [
    "## Model: Single Linear Layer (using nn.Sequential and a torch Optimizer)\n"
   ]
  },
  {
   "cell_type": "markdown",
   "metadata": {},
   "source": [
    "### Build\n"
   ]
  },
  {
   "cell_type": "code",
   "execution_count": null,
   "metadata": {},
   "outputs": [],
   "source": [
    "# Make the estimator\n",
    "model_name = \"linear_net_adam\"\n",
    "model = nn.Sequential(\n",
    "    nn.Linear(n_features, 1),\n",
    ")\n",
    "model = TorchEstimator(net=model, optimizer=optim.Adam, epochs=10)"
   ]
  },
  {
   "cell_type": "markdown",
   "metadata": {},
   "source": [
    "### Evaluate\n"
   ]
  },
  {
   "cell_type": "code",
   "execution_count": null,
   "metadata": {},
   "outputs": [],
   "source": [
    "result = {}"
   ]
  },
  {
   "cell_type": "code",
   "execution_count": null,
   "metadata": {},
   "outputs": [],
   "source": [
    "# Full prediction\n",
    "model.fit(X_train, y_train, X_val=X_test, y_val=y_test)\n",
    "y_pred = model.predict(X_test)"
   ]
  },
  {
   "cell_type": "code",
   "execution_count": null,
   "metadata": {},
   "outputs": [],
   "source": [
    "# Calcualte the error\n",
    "result[\"mse\"] = mean_squared_error(y_test, y_pred)\n",
    "result[\"mse\"]"
   ]
  },
  {
   "cell_type": "code",
   "execution_count": null,
   "metadata": {},
   "outputs": [],
   "source": [
    "# Store the parameters\n",
    "result[\"w\"] = list(model.net.parameters())[0][0][0]\n",
    "result[\"b\"] = list(model.net.parameters())[1][0]"
   ]
  },
  {
   "cell_type": "code",
   "execution_count": null,
   "metadata": {},
   "outputs": [],
   "source": [
    "# Evolution of fit over epochs\n",
    "fig = plt.figure()\n",
    "ax = plt.gca()\n",
    "\n",
    "# Data\n",
    "h, x_edges, y_edges, mesh = ax.hist2d(\n",
    "    X_train[:, 0],\n",
    "    y_train,\n",
    "    bins=32,\n",
    "    cmap=\"Greys\",\n",
    ")\n",
    "\n",
    "# Change in fit parameters\n",
    "norm = plt.Normalize(0, model.epochs)\n",
    "cmap = sns.color_palette(\"flare\", as_cmap=True)\n",
    "for i, params in enumerate(model.params_list_):\n",
    "\n",
    "    if i == 0 or i == model.epochs - 1:\n",
    "        label = i\n",
    "    else:\n",
    "        label = None\n",
    "\n",
    "    w = params[0][0][0]\n",
    "    b = params[1][0]\n",
    "    ax.plot(x_edges, w * x_edges + b, color=cmap(norm(i)), label=label)\n",
    "\n",
    "# Linear regression best fit\n",
    "l_params = results[\"linear_regression\"]\n",
    "ax.plot(x_edges, x_edges * l_params[\"w\"] + l_params[\"b\"], color=\"b\")\n",
    "\n",
    "ax.legend()\n",
    "\n",
    "ax.set_xlabel(\"X\")\n",
    "ax.set_ylabel(\"y\")"
   ]
  },
  {
   "cell_type": "code",
   "execution_count": null,
   "metadata": {},
   "outputs": [],
   "source": [
    "# Plot the training progress (loss curve)\n",
    "fig = plt.figure()\n",
    "ax = plt.gca()\n",
    "\n",
    "ax.plot(\n",
    "    range(len(model.losses_)),\n",
    "    model.losses_,\n",
    "    label = 'training',\n",
    ")\n",
    "\n",
    "ax.plot(\n",
    "    range(len(model.losses_val_)),\n",
    "    model.losses_val_,\n",
    "    label = 'validation',\n",
    ")\n",
    "\n",
    "ax.legend()\n",
    "\n",
    "ax.set_xlabel(\"epoch\")\n",
    "ax.set_ylabel(\"mse\")"
   ]
  },
  {
   "cell_type": "code",
   "execution_count": null,
   "metadata": {},
   "outputs": [],
   "source": [
    "# Crossval score\n",
    "result[\"cross_val_score\"] = cross_val_score(\n",
    "    model, X_train, y_train, cv=cv, scoring=config[\"scoring\"]\n",
    ")\n",
    "result[\"cross_val_score\"]"
   ]
  },
  {
   "cell_type": "code",
   "execution_count": null,
   "metadata": {},
   "outputs": [],
   "source": [
    "results[model_name] = result"
   ]
  },
  {
   "cell_type": "markdown",
   "metadata": {},
   "source": [
    "## Model: Double Linear Layer\n",
    "Should be same as a single linear layer\n"
   ]
  },
  {
   "cell_type": "markdown",
   "metadata": {},
   "source": [
    "### Build\n"
   ]
  },
  {
   "cell_type": "code",
   "execution_count": null,
   "metadata": {},
   "outputs": [],
   "source": [
    "# Make the estimator\n",
    "model_name = \"double_linear_net\"\n",
    "model = nn.Sequential(\n",
    "    nn.Linear(n_features, 1),\n",
    "    nn.Linear(1, 1),\n",
    ")\n",
    "model = TorchEstimator(net=model, optimizer=optim.Adam, epochs=10)"
   ]
  },
  {
   "cell_type": "markdown",
   "metadata": {},
   "source": [
    "### Evaluate\n"
   ]
  },
  {
   "cell_type": "code",
   "execution_count": null,
   "metadata": {},
   "outputs": [],
   "source": [
    "result = {}"
   ]
  },
  {
   "cell_type": "code",
   "execution_count": null,
   "metadata": {},
   "outputs": [],
   "source": [
    "# Full prediction\n",
    "model.fit(X_train, y_train, X_val=X_test, y_val=y_test)\n",
    "y_pred = model.predict(X_test)"
   ]
  },
  {
   "cell_type": "code",
   "execution_count": null,
   "metadata": {},
   "outputs": [],
   "source": [
    "# Calcualte the error\n",
    "result[\"mse\"] = mean_squared_error(y_test, y_pred)\n",
    "result[\"mse\"]"
   ]
  },
  {
   "cell_type": "code",
   "execution_count": null,
   "metadata": {},
   "outputs": [],
   "source": [
    "# Store the parameters\n",
    "result[\"w\"] = list(model.net.parameters())[0][0][0]\n",
    "result[\"b\"] = list(model.net.parameters())[1][0]"
   ]
  },
  {
   "cell_type": "code",
   "execution_count": null,
   "metadata": {},
   "outputs": [],
   "source": [
    "nv = NetVisualizer(model.net)\n",
    "fig = nv.plot(x_edges)"
   ]
  },
  {
   "cell_type": "code",
   "execution_count": null,
   "metadata": {},
   "outputs": [],
   "source": [
    "# Evolution of fit over epochs\n",
    "fig = plt.figure()\n",
    "ax = plt.gca()\n",
    "\n",
    "# Data\n",
    "h, x_edges, y_edges, mesh = ax.hist2d(\n",
    "    X_train[:, 0],\n",
    "    y_train,\n",
    "    bins=32,\n",
    "    cmap=\"Greys\",\n",
    ")\n",
    "\n",
    "# Change in fit parameters\n",
    "norm = plt.Normalize(0, model.epochs)\n",
    "cmap = sns.color_palette(\"flare\", as_cmap=True)\n",
    "for i, params in enumerate(model.params_list_):\n",
    "\n",
    "    if i == 0 or i == model.epochs - 1:\n",
    "        label = i\n",
    "    else:\n",
    "        label = None\n",
    "\n",
    "    w = params[0][0][0]\n",
    "    b = params[1][0]\n",
    "    ax.plot(x_edges, w * x_edges + b, color=cmap(norm(i)), label=label, zorder=i+1)\n",
    "\n",
    "# Linear regression best fit\n",
    "l_params = results[\"linear_regression\"]\n",
    "ax.plot(x_edges, x_edges * l_params[\"w\"] + l_params[\"b\"], color=\"b\")\n",
    "\n",
    "ax.legend()\n",
    "\n",
    "ax.set_xlabel(\"X\")\n",
    "ax.set_ylabel(\"y\")"
   ]
  },
  {
   "cell_type": "code",
   "execution_count": null,
   "metadata": {},
   "outputs": [],
   "source": [
    "# Plot the training progress (loss curve)\n",
    "fig = plt.figure()\n",
    "ax = plt.gca()\n",
    "\n",
    "ax.plot(\n",
    "    range(len(model.losses_)),\n",
    "    model.losses_,\n",
    "    label = 'training',\n",
    ")\n",
    "\n",
    "ax.plot(\n",
    "    range(len(model.losses_val_)),\n",
    "    model.losses_val_,\n",
    "    label = 'validation',\n",
    ")\n",
    "\n",
    "ax.legend()\n",
    "\n",
    "ax.set_xlabel(\"epoch\")\n",
    "ax.set_ylabel(\"mse\")"
   ]
  },
  {
   "cell_type": "code",
   "execution_count": null,
   "metadata": {},
   "outputs": [],
   "source": [
    "# Crossval score\n",
    "result[\"cross_val_score\"] = cross_val_score(\n",
    "    model, X_train, y_train, cv=cv, scoring=config[\"scoring\"]\n",
    ")\n",
    "result[\"cross_val_score\"]"
   ]
  },
  {
   "cell_type": "code",
   "execution_count": null,
   "metadata": {},
   "outputs": [],
   "source": [
    "results[model_name] = result"
   ]
  },
  {
   "cell_type": "markdown",
   "metadata": {},
   "source": [
    "## Model: Simplest Nonlinear Net\n"
   ]
  },
  {
   "cell_type": "code",
   "execution_count": null,
   "metadata": {},
   "outputs": [],
   "source": [
    "# Make the estimator\n",
    "model_name = \"simplest_nonlinear_net\"\n",
    "model = nn.Sequential(\n",
    "    nn.Linear(n_features, 1),\n",
    "    nn.ReLU(),\n",
    "    nn.Linear(1, 1),\n",
    ")\n",
    "model = TorchEstimator(net=model, optimizer=optim.Adam, epochs=10)"
   ]
  },
  {
   "cell_type": "markdown",
   "metadata": {},
   "source": [
    "### Evaluate\n"
   ]
  },
  {
   "cell_type": "code",
   "execution_count": null,
   "metadata": {},
   "outputs": [],
   "source": [
    "result = {}"
   ]
  },
  {
   "cell_type": "code",
   "execution_count": null,
   "metadata": {},
   "outputs": [],
   "source": [
    "# Full prediction\n",
    "model.fit(X_train, y_train, X_val=X_test, y_val=y_test)\n",
    "y_pred = model.predict(X_test)"
   ]
  },
  {
   "cell_type": "code",
   "execution_count": null,
   "metadata": {},
   "outputs": [],
   "source": [
    "# Calcualte the error\n",
    "result[\"mse\"] = mean_squared_error(y_test, y_pred)\n",
    "result[\"mse\"]"
   ]
  },
  {
   "cell_type": "code",
   "execution_count": null,
   "metadata": {},
   "outputs": [],
   "source": [
    "# Store the parameters\n",
    "result[\"w\"] = list(model.net.parameters())[0][0][0]\n",
    "result[\"b\"] = list(model.net.parameters())[1][0]"
   ]
  },
  {
   "cell_type": "code",
   "execution_count": null,
   "metadata": {},
   "outputs": [],
   "source": [
    "# Visualize what happens to the input\n",
    "nv = NetVisualizer(model.net)\n",
    "fig = nv.plot(x_edges)"
   ]
  },
  {
   "cell_type": "code",
   "execution_count": null,
   "metadata": {},
   "outputs": [],
   "source": [
    "# Evolution of fit over epochs\n",
    "fig = plt.figure()\n",
    "ax = plt.gca()\n",
    "\n",
    "# Data\n",
    "h, x_edges, y_edges, mesh = ax.hist2d(\n",
    "    X_train[:, 0],\n",
    "    y_train,\n",
    "    bins=32,\n",
    "    cmap=\"Greys\",\n",
    ")\n",
    "\n",
    "# Change in fit parameters\n",
    "norm = plt.Normalize(0, model.epochs)\n",
    "cmap = sns.color_palette(\"flare\", as_cmap=True)\n",
    "for i, params in enumerate(model.params_list_):\n",
    "\n",
    "    if i == 0 or i == model.epochs - 1:\n",
    "        label = i\n",
    "    else:\n",
    "        label = None\n",
    "\n",
    "    w = params[0][0][0]\n",
    "    b = params[1][0]\n",
    "    ax.plot(x_edges, w * x_edges + b, color=cmap(norm(i)), label=label, zorder=i+1)\n",
    "\n",
    "# Linear regression best fit\n",
    "l_params = results[\"linear_regression\"]\n",
    "ax.plot(x_edges, x_edges * l_params[\"w\"] + l_params[\"b\"], color=\"b\")\n",
    "\n",
    "ax.legend()\n",
    "\n",
    "ax.set_xlabel(\"X\")\n",
    "ax.set_ylabel(\"y\")"
   ]
  },
  {
   "cell_type": "code",
   "execution_count": null,
   "metadata": {},
   "outputs": [],
   "source": [
    "# Plot the training progress (loss curve)\n",
    "fig = plt.figure()\n",
    "ax = plt.gca()\n",
    "\n",
    "ax.plot(\n",
    "    range(len(model.losses_)),\n",
    "    model.losses_,\n",
    "    label = 'training',\n",
    ")\n",
    "\n",
    "ax.plot(\n",
    "    range(len(model.losses_val_)),\n",
    "    model.losses_val_,\n",
    "    label = 'validation',\n",
    ")\n",
    "\n",
    "ax.legend()\n",
    "\n",
    "ax.set_xlabel(\"epoch\")\n",
    "ax.set_ylabel(\"mse\")"
   ]
  },
  {
   "cell_type": "code",
   "execution_count": null,
   "metadata": {},
   "outputs": [],
   "source": [
    "# Crossval score\n",
    "result[\"cross_val_score\"] = cross_val_score(\n",
    "    model, X_train, y_train, cv=cv, scoring=config[\"scoring\"]\n",
    ")\n",
    "result[\"cross_val_score\"]"
   ]
  },
  {
   "cell_type": "code",
   "execution_count": null,
   "metadata": {},
   "outputs": [],
   "source": [
    "results[model_name] = result"
   ]
  },
  {
   "cell_type": "markdown",
   "metadata": {},
   "source": [
    "## Model: Slightly-more-complex Nonlinear Net\n"
   ]
  },
  {
   "cell_type": "code",
   "execution_count": null,
   "metadata": {},
   "outputs": [],
   "source": [
    "# Make the estimator\n",
    "model_name = \"nonlinear_net\"\n",
    "model = nn.Sequential(\n",
    "    nn.Linear(n_features, 2),\n",
    "    nn.ReLU(),\n",
    "    nn.Linear(2, 1),\n",
    ")\n",
    "model = TorchEstimator(net=model, optimizer=optim.Adam, epochs=10)"
   ]
  },
  {
   "cell_type": "markdown",
   "metadata": {},
   "source": [
    "### Evaluate\n"
   ]
  },
  {
   "cell_type": "code",
   "execution_count": null,
   "metadata": {},
   "outputs": [],
   "source": [
    "result = {}"
   ]
  },
  {
   "cell_type": "code",
   "execution_count": null,
   "metadata": {},
   "outputs": [],
   "source": [
    "# Full prediction\n",
    "model.fit(X_train, y_train, X_val=X_test, y_val=y_test)\n",
    "y_pred = model.predict(X_test)"
   ]
  },
  {
   "cell_type": "code",
   "execution_count": null,
   "metadata": {},
   "outputs": [],
   "source": [
    "# Calcualte the error\n",
    "result[\"mse\"] = mean_squared_error(y_test, y_pred)\n",
    "result[\"mse\"]"
   ]
  },
  {
   "cell_type": "code",
   "execution_count": null,
   "metadata": {},
   "outputs": [],
   "source": [
    "# Store the parameters\n",
    "result[\"w\"] = list(model.net.parameters())[0][0][0]\n",
    "result[\"b\"] = list(model.net.parameters())[1][0]"
   ]
  },
  {
   "cell_type": "code",
   "execution_count": null,
   "metadata": {},
   "outputs": [],
   "source": [
    "# Visualize what happens to the input\n",
    "nv = NetVisualizer(model.net)\n",
    "fig = nv.plot(x_edges)"
   ]
  },
  {
   "cell_type": "code",
   "execution_count": null,
   "metadata": {},
   "outputs": [],
   "source": [
    "# Evolution of fit over epochs\n",
    "fig = plt.figure()\n",
    "ax = plt.gca()\n",
    "\n",
    "# Data\n",
    "h, x_edges, y_edges, mesh = ax.hist2d(\n",
    "    X_train[:, 0],\n",
    "    y_train,\n",
    "    bins=32,\n",
    "    cmap=\"Greys\",\n",
    ")\n",
    "\n",
    "# Change in fit parameters\n",
    "norm = plt.Normalize(0, model.epochs)\n",
    "cmap = sns.color_palette(\"flare\", as_cmap=True)\n",
    "for i, params in enumerate(model.params_list_):\n",
    "\n",
    "    if i == 0 or i == model.epochs - 1:\n",
    "        label = i\n",
    "    else:\n",
    "        label = None\n",
    "\n",
    "    w = params[0][0][0]\n",
    "    b = params[1][0]\n",
    "    ax.plot(x_edges, w * x_edges + b, color=cmap(norm(i)), label=label, zorder=i+1)\n",
    "\n",
    "# Linear regression best fit\n",
    "l_params = results[\"linear_regression\"]\n",
    "ax.plot(x_edges, x_edges * l_params[\"w\"] + l_params[\"b\"], color=\"b\")\n",
    "\n",
    "ax.legend()\n",
    "\n",
    "ax.set_xlabel(\"X\")\n",
    "ax.set_ylabel(\"y\")"
   ]
  },
  {
   "cell_type": "code",
   "execution_count": null,
   "metadata": {},
   "outputs": [],
   "source": [
    "# Plot the training progress (loss curve)\n",
    "fig = plt.figure()\n",
    "ax = plt.gca()\n",
    "\n",
    "ax.plot(\n",
    "    range(len(model.losses_)),\n",
    "    model.losses_,\n",
    "    label = 'training',\n",
    ")\n",
    "\n",
    "ax.plot(\n",
    "    range(len(model.losses_val_)),\n",
    "    model.losses_val_,\n",
    "    label = 'validation',\n",
    ")\n",
    "\n",
    "ax.legend()\n",
    "\n",
    "ax.set_xlabel(\"epoch\")\n",
    "ax.set_ylabel(\"mse\")"
   ]
  },
  {
   "cell_type": "code",
   "execution_count": null,
   "metadata": {},
   "outputs": [],
   "source": [
    "# Crossval score\n",
    "result[\"cross_val_score\"] = cross_val_score(\n",
    "    model, X_train, y_train, cv=cv, scoring=config[\"scoring\"]\n",
    ")\n",
    "result[\"cross_val_score\"]"
   ]
  },
  {
   "cell_type": "code",
   "execution_count": null,
   "metadata": {},
   "outputs": [],
   "source": [
    "results[model_name] = result"
   ]
  },
  {
   "cell_type": "markdown",
   "metadata": {},
   "source": [
    "## Compare Models\n"
   ]
  },
  {
   "cell_type": "code",
   "execution_count": null,
   "metadata": {},
   "outputs": [],
   "source": [
    "# Format data\n",
    "dfs = []\n",
    "for key, value in results.items():\n",
    "\n",
    "    df = pd.DataFrame(value)\n",
    "    df[\"model_name\"] = key\n",
    "    dfs.append(df)\n",
    "results_df = pd.concat(dfs)"
   ]
  },
  {
   "cell_type": "code",
   "execution_count": null,
   "metadata": {},
   "outputs": [],
   "source": [
    "fig = plt.figure(figsize=(len(results) * 2, 2))\n",
    "ax = plt.gca()\n",
    "\n",
    "sns.swarmplot(\n",
    "    data=results_df,\n",
    "    x=\"model_name\",\n",
    "    y=\"cross_val_score\",\n",
    ")\n",
    "\n",
    "ax.set_ylabel(config[\"scoring\"])"
   ]
  },
  {
   "cell_type": "markdown",
   "metadata": {},
   "source": [
    "# Single-Feature Nonlinear Regression\n"
   ]
  },
  {
   "cell_type": "code",
   "execution_count": null,
   "metadata": {},
   "outputs": [],
   "source": [
    "results = {}"
   ]
  },
  {
   "cell_type": "code",
   "execution_count": null,
   "metadata": {},
   "outputs": [],
   "source": [
    "from sklearn.datasets import make_regression"
   ]
  },
  {
   "cell_type": "code",
   "execution_count": null,
   "metadata": {},
   "outputs": [],
   "source": [
    "X, y = make_regression(n_samples=1000, n_features=1, noise=5.,)\n",
    "y = y**2.\n",
    "y -= y.mean()\n",
    "y /= y.std()"
   ]
  },
  {
   "cell_type": "code",
   "execution_count": null,
   "metadata": {},
   "outputs": [],
   "source": [
    "# X, y = make_regression(n_samples=1000, n_features=1, noise=10)"
   ]
  },
  {
   "cell_type": "code",
   "execution_count": null,
   "metadata": {},
   "outputs": [],
   "source": [
    "n_features = X.shape[1]"
   ]
  },
  {
   "cell_type": "code",
   "execution_count": null,
   "metadata": {},
   "outputs": [],
   "source": [
    "fig = plt.figure()\n",
    "ax = plt.gca()\n",
    "\n",
    "ax.hist2d(\n",
    "    X[:, 0],\n",
    "    y,\n",
    "    bins=32,\n",
    ")\n",
    "\n",
    "ax.set_xlabel(\"X\")\n",
    "ax.set_ylabel(\"y\")"
   ]
  },
  {
   "cell_type": "markdown",
   "metadata": {},
   "source": [
    "### Split data\n"
   ]
  },
  {
   "cell_type": "code",
   "execution_count": null,
   "metadata": {},
   "outputs": [],
   "source": [
    "from sklearn.model_selection import train_test_split, cross_val_score, KFold"
   ]
  },
  {
   "cell_type": "code",
   "execution_count": null,
   "metadata": {},
   "outputs": [],
   "source": [
    "X_train, X_test, y_train, y_test = train_test_split(\n",
    "    X, y, test_size=config[\"test_size\"], random_state=config[\"random_state\"]\n",
    ")"
   ]
  },
  {
   "cell_type": "code",
   "execution_count": null,
   "metadata": {},
   "outputs": [],
   "source": [
    "cv = KFold(\n",
    "    n_splits=config[\"n_splits\"], shuffle=True, random_state=config[\"random_state\"]\n",
    ")"
   ]
  },
  {
   "cell_type": "markdown",
   "metadata": {},
   "source": [
    "## Baseline\n"
   ]
  },
  {
   "cell_type": "markdown",
   "metadata": {},
   "source": [
    "### Build\n"
   ]
  },
  {
   "cell_type": "code",
   "execution_count": null,
   "metadata": {},
   "outputs": [],
   "source": [
    "from sklearn.base import BaseEstimator"
   ]
  },
  {
   "cell_type": "code",
   "execution_count": null,
   "metadata": {},
   "outputs": [],
   "source": [
    "class Baseline(BaseEstimator):\n",
    "\n",
    "    def fit(self, X, y):\n",
    "        \"\"\"Baseline is we just use the fraction of classifications as a binomial probability.\"\"\"\n",
    "\n",
    "        self.mean_ = y.mean()\n",
    "\n",
    "    def predict(self, X):\n",
    "\n",
    "        return np.full(X.shape[0], self.mean_)"
   ]
  },
  {
   "cell_type": "code",
   "execution_count": null,
   "metadata": {},
   "outputs": [],
   "source": [
    "# Make the estimator\n",
    "model_name = \"mean\"\n",
    "model = Baseline()"
   ]
  },
  {
   "cell_type": "markdown",
   "metadata": {},
   "source": [
    "### Evaluate\n"
   ]
  },
  {
   "cell_type": "code",
   "execution_count": null,
   "metadata": {},
   "outputs": [],
   "source": [
    "result = {}"
   ]
  },
  {
   "cell_type": "code",
   "execution_count": null,
   "metadata": {},
   "outputs": [],
   "source": [
    "# Full prediction\n",
    "model.fit(X_train, y_train)\n",
    "y_pred = model.predict(X_test)"
   ]
  },
  {
   "cell_type": "code",
   "execution_count": null,
   "metadata": {},
   "outputs": [],
   "source": [
    "result[\"mse\"] = mean_squared_error(y_test, y_pred)\n",
    "result[\"mse\"]"
   ]
  },
  {
   "cell_type": "code",
   "execution_count": null,
   "metadata": {},
   "outputs": [],
   "source": [
    "# Crossval score\n",
    "result[\"cross_val_score\"] = cross_val_score(\n",
    "    model, X_train, y_train, cv=cv, scoring=config[\"scoring\"]\n",
    ")\n",
    "result[\"cross_val_score\"]"
   ]
  },
  {
   "cell_type": "code",
   "execution_count": null,
   "metadata": {},
   "outputs": [],
   "source": [
    "results[model_name] = result"
   ]
  },
  {
   "cell_type": "markdown",
   "metadata": {},
   "source": [
    "## Linear Regression\n"
   ]
  },
  {
   "cell_type": "markdown",
   "metadata": {},
   "source": [
    "### Build\n"
   ]
  },
  {
   "cell_type": "code",
   "execution_count": null,
   "metadata": {},
   "outputs": [],
   "source": [
    "from sklearn.linear_model import LinearRegression"
   ]
  },
  {
   "cell_type": "code",
   "execution_count": null,
   "metadata": {},
   "outputs": [],
   "source": [
    "# Make the estimator\n",
    "model_name = \"linear_regression\"\n",
    "model = LinearRegression()"
   ]
  },
  {
   "cell_type": "markdown",
   "metadata": {},
   "source": [
    "### Evaluate\n"
   ]
  },
  {
   "cell_type": "code",
   "execution_count": null,
   "metadata": {},
   "outputs": [],
   "source": [
    "result = {}"
   ]
  },
  {
   "cell_type": "code",
   "execution_count": null,
   "metadata": {},
   "outputs": [],
   "source": [
    "# Full prediction\n",
    "model.fit(X_train, y_train)\n",
    "y_pred = model.predict(X_test)"
   ]
  },
  {
   "cell_type": "code",
   "execution_count": null,
   "metadata": {},
   "outputs": [],
   "source": [
    "result[\"mse\"] = mean_squared_error(y_test, y_pred)\n",
    "result[\"mse\"]"
   ]
  },
  {
   "cell_type": "code",
   "execution_count": null,
   "metadata": {},
   "outputs": [],
   "source": [
    "# Crossval score\n",
    "result[\"cross_val_score\"] = cross_val_score(\n",
    "    model, X_train, y_train, cv=cv, scoring=config[\"scoring\"]\n",
    ")\n",
    "result[\"cross_val_score\"]"
   ]
  },
  {
   "cell_type": "code",
   "execution_count": null,
   "metadata": {},
   "outputs": [],
   "source": [
    "fig = plt.figure()\n",
    "ax = plt.gca()\n",
    "\n",
    "h, x_edges, y_edges, mesh = ax.hist2d(\n",
    "    X_test[:, 0],\n",
    "    y_test,\n",
    "    bins=32,\n",
    "    cmap=\"Greys\",\n",
    ")\n",
    "\n",
    "y_pred_plot = model.predict(x_edges.reshape(-1, 1))\n",
    "ax.plot(x_edges, y_pred_plot, color=\"r\")\n",
    "\n",
    "ax.set_xlabel(\"X\")\n",
    "ax.set_ylabel(\"y\")"
   ]
  },
  {
   "cell_type": "code",
   "execution_count": null,
   "metadata": {},
   "outputs": [],
   "source": [
    "result[\"w\"] = model.coef_[0]\n",
    "result[\"b\"] = model.intercept_"
   ]
  },
  {
   "cell_type": "code",
   "execution_count": null,
   "metadata": {},
   "outputs": [],
   "source": [
    "results[model_name] = result"
   ]
  },
  {
   "cell_type": "markdown",
   "metadata": {},
   "source": [
    "## Model: Neural Net\n"
   ]
  },
  {
   "cell_type": "code",
   "execution_count": null,
   "metadata": {},
   "outputs": [],
   "source": [
    "# Make the estimator\n",
    "model_name = \"neural_net\"\n",
    "model = nn.Sequential(\n",
    "    nn.Linear(n_features, 2),\n",
    "    nn.ReLU(),\n",
    "    nn.Linear(2, 1),\n",
    ")\n",
    "model = TorchEstimator(net=model, optimizer=optim.Adam, epochs=100)"
   ]
  },
  {
   "cell_type": "markdown",
   "metadata": {},
   "source": [
    "### Evaluate\n"
   ]
  },
  {
   "cell_type": "code",
   "execution_count": null,
   "metadata": {},
   "outputs": [],
   "source": [
    "result = {}"
   ]
  },
  {
   "cell_type": "code",
   "execution_count": null,
   "metadata": {},
   "outputs": [],
   "source": [
    "# Full prediction\n",
    "model.fit(X_train, y_train, X_val=X_test, y_val=y_test)\n",
    "y_pred = model.predict(X_test)"
   ]
  },
  {
   "cell_type": "code",
   "execution_count": null,
   "metadata": {},
   "outputs": [],
   "source": [
    "# Calcualte the error\n",
    "result[\"mse\"] = mean_squared_error(y_test, y_pred)\n",
    "result[\"mse\"]"
   ]
  },
  {
   "cell_type": "code",
   "execution_count": null,
   "metadata": {},
   "outputs": [],
   "source": [
    "# Store the parameters\n",
    "result[\"w\"] = list(model.net.parameters())[0][0][0]\n",
    "result[\"b\"] = list(model.net.parameters())[1][0]"
   ]
  },
  {
   "cell_type": "code",
   "execution_count": null,
   "metadata": {},
   "outputs": [],
   "source": [
    "# Visualize what happens to the input\n",
    "nv = NetVisualizer(model.net)\n",
    "fig = nv.plot(x_edges)"
   ]
  },
  {
   "cell_type": "code",
   "execution_count": null,
   "metadata": {},
   "outputs": [],
   "source": [
    "# Evolution of fit over epochs\n",
    "fig = plt.figure()\n",
    "ax = plt.gca()\n",
    "\n",
    "# Data\n",
    "h, x_edges, y_edges, mesh = ax.hist2d(\n",
    "    X_train[:, 0],\n",
    "    y_train,\n",
    "    bins=32,\n",
    "    cmap=\"Greys\",\n",
    ")\n",
    "\n",
    "y_pred = model.predict(x_edges.reshape(-1, 1))\n",
    "ax.plot(\n",
    "    x_edges,\n",
    "    y_pred,\n",
    ")\n",
    "\n",
    "ax.legend()\n",
    "\n",
    "ax.set_xlabel(\"X\")\n",
    "ax.set_ylabel(\"y\")"
   ]
  },
  {
   "cell_type": "code",
   "execution_count": null,
   "metadata": {},
   "outputs": [],
   "source": [
    "# Plot the training progress (loss curve)\n",
    "fig = plt.figure()\n",
    "ax = plt.gca()\n",
    "\n",
    "ax.plot(\n",
    "    range(len(model.losses_)),\n",
    "    model.losses_,\n",
    "    label = 'training',\n",
    ")\n",
    "\n",
    "ax.plot(\n",
    "    range(len(model.losses_val_)),\n",
    "    model.losses_val_,\n",
    "    label = 'validation',\n",
    ")\n",
    "\n",
    "ax.legend()\n",
    "\n",
    "ax.set_xlabel(\"epoch\")\n",
    "ax.set_ylabel(\"mse\")"
   ]
  },
  {
   "cell_type": "code",
   "execution_count": null,
   "metadata": {},
   "outputs": [],
   "source": [
    "# Crossval score\n",
    "result[\"cross_val_score\"] = cross_val_score(\n",
    "    model, X_train, y_train, cv=cv, scoring=config[\"scoring\"]\n",
    ")\n",
    "result[\"cross_val_score\"]"
   ]
  },
  {
   "cell_type": "code",
   "execution_count": null,
   "metadata": {},
   "outputs": [],
   "source": [
    "results[model_name] = result"
   ]
  },
  {
   "cell_type": "markdown",
   "metadata": {},
   "source": [
    "## Model: Wide Neural Net\n"
   ]
  },
  {
   "cell_type": "code",
   "execution_count": null,
   "metadata": {},
   "outputs": [],
   "source": [
    "# Make the estimator\n",
    "model_name = \"wide_neural_net\"\n",
    "model = nn.Sequential(\n",
    "    nn.Linear(n_features, 16),\n",
    "    nn.ReLU(),\n",
    "    nn.Linear(16, 1),\n",
    ")\n",
    "model = TorchEstimator(net=model, optimizer=optim.Adam, epochs=100)"
   ]
  },
  {
   "cell_type": "markdown",
   "metadata": {},
   "source": [
    "### Evaluate\n"
   ]
  },
  {
   "cell_type": "code",
   "execution_count": null,
   "metadata": {},
   "outputs": [],
   "source": [
    "result = {}"
   ]
  },
  {
   "cell_type": "code",
   "execution_count": null,
   "metadata": {},
   "outputs": [],
   "source": [
    "# Full prediction\n",
    "model.fit(X_train, y_train, X_val=X_test, y_val=y_test)\n",
    "y_pred = model.predict(X_test)"
   ]
  },
  {
   "cell_type": "code",
   "execution_count": null,
   "metadata": {},
   "outputs": [],
   "source": [
    "# Calcualte the error\n",
    "result[\"mse\"] = mean_squared_error(y_test, y_pred)\n",
    "result[\"mse\"]"
   ]
  },
  {
   "cell_type": "code",
   "execution_count": null,
   "metadata": {},
   "outputs": [],
   "source": [
    "# Store the parameters\n",
    "result[\"w\"] = list(model.net.parameters())[0][0][0]\n",
    "result[\"b\"] = list(model.net.parameters())[1][0]"
   ]
  },
  {
   "cell_type": "code",
   "execution_count": null,
   "metadata": {},
   "outputs": [],
   "source": [
    "# Visualize what happens to the input\n",
    "nv = NetVisualizer(model.net)\n",
    "fig = nv.plot(x_edges)"
   ]
  },
  {
   "cell_type": "code",
   "execution_count": null,
   "metadata": {},
   "outputs": [],
   "source": [
    "# Evolution of fit over epochs\n",
    "fig = plt.figure()\n",
    "ax = plt.gca()\n",
    "\n",
    "# Data\n",
    "h, x_edges, y_edges, mesh = ax.hist2d(\n",
    "    X_train[:, 0],\n",
    "    y_train,\n",
    "    bins=32,\n",
    "    cmap=\"Greys\",\n",
    ")\n",
    "\n",
    "y_pred = model.predict(x_edges.reshape(-1, 1))\n",
    "ax.plot(\n",
    "    x_edges,\n",
    "    y_pred,\n",
    ")\n",
    "\n",
    "ax.set_xlabel(\"X\")\n",
    "ax.set_ylabel(\"y\")"
   ]
  },
  {
   "cell_type": "code",
   "execution_count": null,
   "metadata": {},
   "outputs": [],
   "source": [
    "# Plot the training progress (loss curve)\n",
    "fig = plt.figure()\n",
    "ax = plt.gca()\n",
    "\n",
    "ax.plot(\n",
    "    range(len(model.losses_)),\n",
    "    model.losses_,\n",
    "    label = 'training',\n",
    ")\n",
    "\n",
    "ax.plot(\n",
    "    range(len(model.losses_val_)),\n",
    "    model.losses_val_,\n",
    "    label = 'validation',\n",
    ")\n",
    "\n",
    "ax.legend()\n",
    "\n",
    "ax.set_xlabel(\"epoch\")\n",
    "ax.set_ylabel(\"mse\")"
   ]
  },
  {
   "cell_type": "code",
   "execution_count": null,
   "metadata": {},
   "outputs": [],
   "source": [
    "# Crossval score\n",
    "result[\"cross_val_score\"] = cross_val_score(\n",
    "    model, X_train, y_train, cv=cv, scoring=config[\"scoring\"]\n",
    ")\n",
    "result[\"cross_val_score\"]"
   ]
  },
  {
   "cell_type": "code",
   "execution_count": null,
   "metadata": {},
   "outputs": [],
   "source": [
    "results[model_name] = result"
   ]
  },
  {
   "cell_type": "markdown",
   "metadata": {},
   "source": [
    "## Model: Wide-Deep Neural Net\n"
   ]
  },
  {
   "cell_type": "code",
   "execution_count": null,
   "metadata": {},
   "outputs": [],
   "source": [
    "# Make the estimator\n",
    "model_name = \"deep_neural_net\"\n",
    "model = nn.Sequential(\n",
    "    nn.Linear(n_features, 4),\n",
    "    nn.ReLU(),\n",
    "    nn.Linear(4, 4),\n",
    "    nn.ReLU(),\n",
    "    nn.Linear(4, 1),\n",
    ")\n",
    "model = TorchEstimator(net=model, optimizer=optim.Adam, epochs=50)"
   ]
  },
  {
   "cell_type": "markdown",
   "metadata": {},
   "source": [
    "### Evaluate\n"
   ]
  },
  {
   "cell_type": "code",
   "execution_count": null,
   "metadata": {},
   "outputs": [],
   "source": [
    "result = {}"
   ]
  },
  {
   "cell_type": "code",
   "execution_count": null,
   "metadata": {},
   "outputs": [],
   "source": [
    "# Full prediction\n",
    "model.fit(X_train, y_train, X_val=X_test, y_val=y_test)\n",
    "y_pred = model.predict(X_test)"
   ]
  },
  {
   "cell_type": "code",
   "execution_count": null,
   "metadata": {},
   "outputs": [],
   "source": [
    "# Calcualte the error\n",
    "result[\"mse\"] = mean_squared_error(y_test, y_pred)\n",
    "result[\"mse\"]"
   ]
  },
  {
   "cell_type": "code",
   "execution_count": null,
   "metadata": {},
   "outputs": [],
   "source": [
    "# Store the parameters\n",
    "result[\"w\"] = list(model.net.parameters())[0][0][0]\n",
    "result[\"b\"] = list(model.net.parameters())[1][0]"
   ]
  },
  {
   "cell_type": "code",
   "execution_count": null,
   "metadata": {},
   "outputs": [],
   "source": [
    "# Visualize what happens to the input\n",
    "nv = NetVisualizer(model.net)\n",
    "fig = nv.plot(x_edges)"
   ]
  },
  {
   "cell_type": "code",
   "execution_count": null,
   "metadata": {},
   "outputs": [],
   "source": [
    "# Evolution of fit over epochs\n",
    "fig = plt.figure()\n",
    "ax = plt.gca()\n",
    "\n",
    "# Data\n",
    "h, x_edges, y_edges, mesh = ax.hist2d(\n",
    "    X_train[:, 0],\n",
    "    y_train,\n",
    "    bins=32,\n",
    "    cmap=\"Greys\",\n",
    ")\n",
    "\n",
    "y_pred = model.predict(x_edges.reshape(-1, 1))\n",
    "ax.plot(\n",
    "    x_edges,\n",
    "    y_pred,\n",
    ")\n",
    "\n",
    "ax.set_xlabel(\"X\")\n",
    "ax.set_ylabel(\"y\")"
   ]
  },
  {
   "cell_type": "code",
   "execution_count": null,
   "metadata": {},
   "outputs": [],
   "source": [
    "# Plot the training progress (loss curve)\n",
    "fig = plt.figure()\n",
    "ax = plt.gca()\n",
    "\n",
    "ax.plot(\n",
    "    range(len(model.losses_)),\n",
    "    model.losses_,\n",
    "    label = 'training',\n",
    ")\n",
    "\n",
    "ax.plot(\n",
    "    range(len(model.losses_val_)),\n",
    "    model.losses_val_,\n",
    "    label = 'validation',\n",
    ")\n",
    "\n",
    "ax.legend()\n",
    "\n",
    "ax.set_xlabel(\"epoch\")\n",
    "ax.set_ylabel(\"mse\")"
   ]
  },
  {
   "cell_type": "code",
   "execution_count": null,
   "metadata": {},
   "outputs": [],
   "source": [
    "# Crossval score\n",
    "result[\"cross_val_score\"] = cross_val_score(\n",
    "    model, X_train, y_train, cv=cv, scoring=config[\"scoring\"]\n",
    ")\n",
    "result[\"cross_val_score\"]"
   ]
  },
  {
   "cell_type": "code",
   "execution_count": null,
   "metadata": {},
   "outputs": [],
   "source": [
    "results[model_name] = result"
   ]
  },
  {
   "cell_type": "markdown",
   "metadata": {},
   "source": [
    "## Compare Models\n"
   ]
  },
  {
   "cell_type": "code",
   "execution_count": null,
   "metadata": {},
   "outputs": [],
   "source": [
    "# Format data\n",
    "dfs = []\n",
    "for key, value in results.items():\n",
    "\n",
    "    df = pd.DataFrame(value)\n",
    "    df[\"model_name\"] = key\n",
    "    dfs.append(df)\n",
    "results_df = pd.concat(dfs)"
   ]
  },
  {
   "cell_type": "code",
   "execution_count": null,
   "metadata": {},
   "outputs": [],
   "source": [
    "fig = plt.figure(figsize=(len(results) * 2, 2))\n",
    "ax = plt.gca()\n",
    "\n",
    "sns.swarmplot(\n",
    "    data=results_df,\n",
    "    x=\"model_name\",\n",
    "    y=\"cross_val_score\",\n",
    ")\n",
    "\n",
    "ax.set_ylabel(config[\"scoring\"])"
   ]
  },
  {
   "cell_type": "code",
   "execution_count": null,
   "metadata": {},
   "outputs": [],
   "source": []
  },
  {
   "cell_type": "code",
   "execution_count": null,
   "metadata": {},
   "outputs": [],
   "source": []
  }
 ],
 "metadata": {
  "kernelspec": {
   "display_name": "llm",
   "language": "python",
   "name": "python3"
  },
  "language_info": {
   "codemirror_mode": {
    "name": "ipython",
    "version": 3
   },
   "file_extension": ".py",
   "mimetype": "text/x-python",
   "name": "python",
   "nbconvert_exporter": "python",
   "pygments_lexer": "ipython3",
   "version": "3.12.2"
  }
 },
 "nbformat": 4,
 "nbformat_minor": 2
}
